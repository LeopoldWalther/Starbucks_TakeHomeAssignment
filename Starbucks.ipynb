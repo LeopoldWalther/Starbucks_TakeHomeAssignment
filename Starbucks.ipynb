{
 "cells": [
  {
   "cell_type": "markdown",
   "metadata": {},
   "source": [
    "# Portfolio Exercise: Starbucks\n",
    "<br>\n",
    "\n",
    "<img src=\"https://opj.ca/wp-content/uploads/2018/02/New-Starbucks-Logo-1200x969.jpg\" width=\"200\" height=\"200\">\n",
    "<br>\n",
    "<br>\n",
    " \n",
    "### Background Information\n",
    "\n",
    "The dataset you will be provided in this portfolio exercise was originally used as a take-home assignment provided by Starbucks for their job candidates. The data for this exercise consists of about 120,000 data points split in a 2:1 ratio among training and test files. In the experiment simulated by the data, an advertising promotion was tested to see if it would bring more customers to purchase a specific product priced at $10. Since it costs the company 0.15 to send out each promotion, it would be best to limit that promotion only to those that are most receptive to the promotion. Each data point includes one column indicating whether or not an individual was sent a promotion for the product, and one column indicating whether or not that individual eventually purchased that product. Each individual also has seven additional features associated with them, which are provided abstractly as V1-V7.\n",
    "\n",
    "#### Optimization Strategy\n",
    "\n",
    "Your task is to use the training data to understand what patterns in V1-V7 to indicate that a promotion should be provided to a user. Specifically, your goal is to maximize the following metrics:\n",
    "\n",
    "* **Incremental Response Rate (IRR)** \n",
    "\n",
    "IRR depicts how many more customers purchased the product with the promotion, as compared to if they didn't receive the promotion. Mathematically, it's the ratio of the number of purchasers in the promotion group to the total number of customers in the purchasers group (_treatment_) minus the ratio of the number of purchasers in the non-promotional group to the total number of customers in the non-promotional group (_control_).\n",
    "\n",
    "$$ IRR = \\frac{purch_{treat}}{cust_{treat}} - \\frac{purch_{ctrl}}{cust_{ctrl}} $$\n",
    "\n",
    "\n",
    "* **Net Incremental Revenue (NIR)**\n",
    "\n",
    "NIR depicts how much is made (or lost) by sending out the promotion. Mathematically, this is 10 times the total number of purchasers that received the promotion minus 0.15 times the number of promotions sent out, minus 10 times the number of purchasers who were not given the promotion.\n",
    "\n",
    "$$ NIR = (10\\cdot purch_{treat} - 0.15 \\cdot cust_{treat}) - 10 \\cdot purch_{ctrl}$$\n",
    "\n",
    "For a full description of what Starbucks provides to candidates see the [instructions available here](https://drive.google.com/open?id=18klca9Sef1Rs6q8DW4l7o349r8B70qXM).\n",
    "\n",
    "Below you can find the training data provided.  Explore the data and different optimization strategies.\n",
    "\n",
    "#### How To Test Your Strategy?\n",
    "\n",
    "When you feel like you have an optimization strategy, complete the `promotion_strategy` function to pass to the `test_results` function.  \n",
    "From past data, we know there are four possible outomes:\n",
    "\n",
    "Table of actual promotion vs. predicted promotion customers:  \n",
    "\n",
    "<table>\n",
    "<tr><th></th><th colspan = '2'>Actual</th></tr>\n",
    "<tr><th>Predicted</th><th>Yes</th><th>No</th></tr>\n",
    "<tr><th>Yes</th><td>I</td><td>II</td></tr>\n",
    "<tr><th>No</th><td>III</td><td>IV</td></tr>\n",
    "</table>\n",
    "\n",
    "The metrics are only being compared for the individuals we predict should obtain the promotion – that is, quadrants I and II.  Since the first set of individuals that receive the promotion (in the training set) receive it randomly, we can expect that quadrants I and II will have approximately equivalent participants.  \n",
    "\n",
    "Comparing quadrant I to II then gives an idea of how well your promotion strategy will work in the future. \n",
    "\n",
    "Get started by reading in the data below.  See how each variable or combination of variables along with a promotion influences the chance of purchasing.  When you feel like you have a strategy for who should receive a promotion, test your strategy against the test dataset used in the final `test_results` function."
   ]
  },
  {
   "cell_type": "code",
   "execution_count": 65,
   "metadata": {},
   "outputs": [],
   "source": [
    "## 1. Import necessars libraries"
   ]
  },
  {
   "cell_type": "code",
   "execution_count": 1,
   "metadata": {},
   "outputs": [
    {
     "data": {
      "text/html": [
       "<div>\n",
       "<style scoped>\n",
       "    .dataframe tbody tr th:only-of-type {\n",
       "        vertical-align: middle;\n",
       "    }\n",
       "\n",
       "    .dataframe tbody tr th {\n",
       "        vertical-align: top;\n",
       "    }\n",
       "\n",
       "    .dataframe thead th {\n",
       "        text-align: right;\n",
       "    }\n",
       "</style>\n",
       "<table border=\"1\" class=\"dataframe\">\n",
       "  <thead>\n",
       "    <tr style=\"text-align: right;\">\n",
       "      <th></th>\n",
       "      <th>ID</th>\n",
       "      <th>Promotion</th>\n",
       "      <th>purchase</th>\n",
       "      <th>V1</th>\n",
       "      <th>V2</th>\n",
       "      <th>V3</th>\n",
       "      <th>V4</th>\n",
       "      <th>V5</th>\n",
       "      <th>V6</th>\n",
       "      <th>V7</th>\n",
       "    </tr>\n",
       "  </thead>\n",
       "  <tbody>\n",
       "    <tr>\n",
       "      <th>0</th>\n",
       "      <td>1</td>\n",
       "      <td>No</td>\n",
       "      <td>0</td>\n",
       "      <td>2</td>\n",
       "      <td>30.443518</td>\n",
       "      <td>-1.165083</td>\n",
       "      <td>1</td>\n",
       "      <td>1</td>\n",
       "      <td>3</td>\n",
       "      <td>2</td>\n",
       "    </tr>\n",
       "    <tr>\n",
       "      <th>1</th>\n",
       "      <td>3</td>\n",
       "      <td>No</td>\n",
       "      <td>0</td>\n",
       "      <td>3</td>\n",
       "      <td>32.159350</td>\n",
       "      <td>-0.645617</td>\n",
       "      <td>2</td>\n",
       "      <td>3</td>\n",
       "      <td>2</td>\n",
       "      <td>2</td>\n",
       "    </tr>\n",
       "    <tr>\n",
       "      <th>2</th>\n",
       "      <td>4</td>\n",
       "      <td>No</td>\n",
       "      <td>0</td>\n",
       "      <td>2</td>\n",
       "      <td>30.431659</td>\n",
       "      <td>0.133583</td>\n",
       "      <td>1</td>\n",
       "      <td>1</td>\n",
       "      <td>4</td>\n",
       "      <td>2</td>\n",
       "    </tr>\n",
       "    <tr>\n",
       "      <th>3</th>\n",
       "      <td>5</td>\n",
       "      <td>No</td>\n",
       "      <td>0</td>\n",
       "      <td>0</td>\n",
       "      <td>26.588914</td>\n",
       "      <td>-0.212728</td>\n",
       "      <td>2</td>\n",
       "      <td>1</td>\n",
       "      <td>4</td>\n",
       "      <td>2</td>\n",
       "    </tr>\n",
       "    <tr>\n",
       "      <th>4</th>\n",
       "      <td>8</td>\n",
       "      <td>Yes</td>\n",
       "      <td>0</td>\n",
       "      <td>3</td>\n",
       "      <td>28.044332</td>\n",
       "      <td>-0.385883</td>\n",
       "      <td>1</td>\n",
       "      <td>1</td>\n",
       "      <td>2</td>\n",
       "      <td>2</td>\n",
       "    </tr>\n",
       "  </tbody>\n",
       "</table>\n",
       "</div>"
      ],
      "text/plain": [
       "   ID Promotion  purchase  V1         V2        V3  V4  V5  V6  V7\n",
       "0   1        No         0   2  30.443518 -1.165083   1   1   3   2\n",
       "1   3        No         0   3  32.159350 -0.645617   2   3   2   2\n",
       "2   4        No         0   2  30.431659  0.133583   1   1   4   2\n",
       "3   5        No         0   0  26.588914 -0.212728   2   1   4   2\n",
       "4   8       Yes         0   3  28.044332 -0.385883   1   1   2   2"
      ]
     },
     "execution_count": 1,
     "metadata": {},
     "output_type": "execute_result"
    }
   ],
   "source": [
    "# load in packages\n",
    "from itertools import combinations\n",
    "\n",
    "from test_results import test_results, score\n",
    "import numpy as np\n",
    "import pandas as pd\n",
    "import scipy as sp\n",
    "import sklearn as sk\n",
    "import scipy.stats as stats\n",
    "\n",
    "import matplotlib.pyplot as plt\n",
    "import seaborn as sb\n",
    "%matplotlib inline\n",
    "\n",
    "# load in the data\n",
    "train_data = pd.read_csv('./training.csv')\n",
    "train_data.head()"
   ]
  },
  {
   "cell_type": "markdown",
   "metadata": {},
   "source": [
    "## 2. Inspect data"
   ]
  },
  {
   "cell_type": "code",
   "execution_count": 2,
   "metadata": {},
   "outputs": [
    {
     "name": "stdout",
     "output_type": "stream",
     "text": [
      "n_total: 84534\n",
      "n_control: 42170\n",
      "n_experiment: 42364\n"
     ]
    }
   ],
   "source": [
    "# dimensions of experiment\n",
    "\n",
    "n_total = train_data.shape[0]\n",
    "print('n_total:', n_total)\n",
    "\n",
    "n_control = train_data.query('Promotion == \"No\"').shape[0]\n",
    "print('n_control:', n_control)\n",
    "\n",
    "n_experiment = train_data.query('Promotion == \"Yes\"').shape[0]\n",
    "print('n_experiment:', n_experiment)"
   ]
  },
  {
   "cell_type": "code",
   "execution_count": 3,
   "metadata": {},
   "outputs": [
    {
     "data": {
      "text/plain": [
       "ID             int64\n",
       "Promotion     object\n",
       "purchase       int64\n",
       "V1             int64\n",
       "V2           float64\n",
       "V3           float64\n",
       "V4             int64\n",
       "V5             int64\n",
       "V6             int64\n",
       "V7             int64\n",
       "dtype: object"
      ]
     },
     "execution_count": 3,
     "metadata": {},
     "output_type": "execute_result"
    }
   ],
   "source": [
    "# investigate datatypes\n",
    "train_data.dtypes"
   ]
  },
  {
   "cell_type": "code",
   "execution_count": 4,
   "metadata": {},
   "outputs": [
    {
     "name": "stdout",
     "output_type": "stream",
     "text": [
      "purchases_total: 1040\n",
      "purchases_control: 319\n",
      "purchases_experiment: 721\n"
     ]
    }
   ],
   "source": [
    "# total number of purchases\n",
    "\n",
    "purchases_total = train_data.query('purchase == 1').shape[0]\n",
    "print('purchases_total:', purchases_total)\n",
    "\n",
    "purchases_control = train_data.query('Promotion == \"No\" and purchase == 1').shape[0]\n",
    "print('purchases_control:', purchases_control)\n",
    "\n",
    "purchases_experiment = train_data.query('Promotion == \"Yes\" and purchase == 1').shape[0]\n",
    "print('purchases_experiment:', purchases_experiment)"
   ]
  },
  {
   "cell_type": "code",
   "execution_count": 5,
   "metadata": {},
   "outputs": [
    {
     "name": "stdout",
     "output_type": "stream",
     "text": [
      "proportion_total: 0.012302742091939338\n",
      "proportion_control: 0.007564619397676073\n",
      "proportion_experiment: 0.017019167217448776\n"
     ]
    }
   ],
   "source": [
    "# proportion of customers who bought the product\n",
    "\n",
    "proportion_total = train_data.purchase.mean()\n",
    "print('proportion_total:', proportion_total)\n",
    "\n",
    "proportion_control = train_data.query('Promotion == \"No\"').purchase.mean()\n",
    "print('proportion_control:', proportion_control)\n",
    "\n",
    "proportion_experiment = train_data.query('Promotion == \"Yes\"').purchase.mean()\n",
    "print('proportion_experiment:', proportion_experiment)"
   ]
  },
  {
   "cell_type": "markdown",
   "metadata": {},
   "source": [
    "## 3. Calculate metrics"
   ]
  },
  {
   "cell_type": "code",
   "execution_count": 7,
   "metadata": {},
   "outputs": [
    {
     "name": "stdout",
     "output_type": "stream",
     "text": [
      "Incremental Response Rate (IRR): 0.009454547819772702\n"
     ]
    }
   ],
   "source": [
    "# Incremental Response Rate (IRR)\n",
    "\n",
    "IRR_observed = proportion_experiment - proportion_control\n",
    "print('Incremental Response Rate (IRR):', IRR_observed)"
   ]
  },
  {
   "cell_type": "markdown",
   "metadata": {},
   "source": [
    "The Incremental Response Rate (IRR) is 0.0095. This seems as there is a positive effect regarding additional purchases by making advertising promotion. If this observed difference is statistically significant, will be answered in the Hypothesis test."
   ]
  },
  {
   "cell_type": "code",
   "execution_count": 8,
   "metadata": {},
   "outputs": [
    {
     "name": "stdout",
     "output_type": "stream",
     "text": [
      "Net Incremental Revenue (NIR): -2334.5999999999995\n"
     ]
    }
   ],
   "source": [
    "# Net Incremental Revenue (NIR)\n",
    "\n",
    "NIR_observed = (10 * purchases_experiment - 0.15 * n_experiment) - 10 * purchases_control\n",
    "print('Net Incremental Revenue (NIR):', NIR_observed)"
   ]
  },
  {
   "cell_type": "markdown",
   "metadata": {},
   "source": [
    "The Net Incremental Revenue (NIR) is -2334, which indicates that the cost of the advertising promotions is higher than the additional sold units. The chance of observing this value as part of a normal distribution with its mean greater than zero will be calculated in the Hypothesis tests."
   ]
  },
  {
   "cell_type": "markdown",
   "metadata": {},
   "source": [
    "## 4. Hypothesis test"
   ]
  },
  {
   "cell_type": "markdown",
   "metadata": {},
   "source": [
    "1. Build user Funnel --> not relevant here\n",
    "2. Diversion of Users (event-based. cookie-based, account-based) --> not relevant here\n",
    "3. Selcting Invariant Metric: Distribution of customers to control group and experiment group.\n",
    "4. Selecting Evaluation Metric(s): IRR & NIR\n",
    "5. Use Correction (Bonferroni, Sidark): Bonferroni, because there are two evaluation metrics\n",
    "6. Experiment size: --> not relevant here\n",
    "7. Validity, Bias, Ehtics: --> not relevant here\n",
    "8. Analyze Data: --> not relevant here"
   ]
  },
  {
   "cell_type": "markdown",
   "metadata": {},
   "source": [
    "### 4.1 Checking the Invariant Metric:\n",
    "\n",
    "We will check that the number of customers assigned to each group is similar. It's important to check the invariant metrics as a prerequisite so that the following inferences on the evaluation metrics are founded on solid ground. \n",
    "\n",
    "In this a two-sided hypothesis test will be performed on the proportion of visitors assigned to one of the conditions. Choosing the control or the experimental condition doesn't matter, there will be the same result either way.\n",
    "\n",
    "The Null-Hypothesis $H_0$ states that the customers are equally distributed among control group and experimental group. The alternetive Hypothesis $H_1$ states that the amount of customers in control group and experimental group are different."
   ]
  },
  {
   "cell_type": "markdown",
   "metadata": {},
   "source": [
    "#### 4.1.1 Analytical approach:"
   ]
  },
  {
   "cell_type": "code",
   "execution_count": 9,
   "metadata": {},
   "outputs": [
    {
     "name": "stdout",
     "output_type": "stream",
     "text": [
      "The standard deviation for a normal distribution with 84534 customers and a probability of 0.5 is: 145.3736564856233\n",
      "The probabilty of seeing the observed amount of users (42170) in the control group or a more extreme value         under the Null-Hypothesis, is 0.5068140685419046\n"
     ]
    }
   ],
   "source": [
    "# Compute a z-score and p-value\n",
    "probability = 0.5\n",
    "standard_deviation = np.sqrt(probability * (1-probability) * n_total)\n",
    "\n",
    "print('The standard deviation for a normal distribution with {} customers and a probability of {} is: {}'.format(\n",
    "    n_total, probability, standard_deviation))\n",
    "\n",
    "z_score = ((n_control + 0.5) - probability * n_total) / standard_deviation\n",
    "\n",
    "print('The probabilty of seeing the observed amount of users ({}) in the control group or a more extreme value \\\n",
    "        under the Null-Hypothesis, is {}'.format(n_control, 2 * stats.norm.cdf(z_score)))"
   ]
  },
  {
   "cell_type": "markdown",
   "metadata": {},
   "source": [
    "#### 4.1.2 Empirical / Simulation-based approach:"
   ]
  },
  {
   "cell_type": "code",
   "execution_count": 10,
   "metadata": {},
   "outputs": [
    {
     "name": "stdout",
     "output_type": "stream",
     "text": [
      "\n",
      "The probabilty of seeing the observed amount of users (42170) in the control group or a more extreme value         under the Null-Hypothesis, is 0.50663\n"
     ]
    }
   ],
   "source": [
    "# Simulate outcomes under null, compare to observed outcome\n",
    "n_trials = 200000\n",
    "\n",
    "samples = np.random.binomial(n_total, probability, n_trials)\n",
    "\n",
    "print()\n",
    "\n",
    "print('The probabilty of seeing the observed amount of users ({}) in the control group or a more extreme value \\\n",
    "        under the Null-Hypothesis, is {}'.format(\n",
    "    n_control, np.logical_or(samples <= n_control, samples >= (n_total - n_control)).mean()))"
   ]
  },
  {
   "cell_type": "markdown",
   "metadata": {},
   "source": [
    "This prooves that the distribution of customers to control and experimental group, as seen in the train_data file, is similar. The next stept is to perform the Hypothesis tests on the evaluation metrics."
   ]
  },
  {
   "cell_type": "markdown",
   "metadata": {},
   "source": [
    "### 4.2 Hypothesis regarding the Incremental Response Rate (IRR):\n",
    "\n",
    "The first evaluation metric is the Incremental Response Rate (IRR). The goal of the advertisement promotion is that the experimental group has a significantly larger proportion of customers who buy the product than the control group.\n",
    "\n",
    "The Hypothesis test will be performed analytical and with the simulation approach. It will be a one-tailed test.\n",
    "The Null Hypothesis states that Incremental Response Rate (IRR) is zero or less, meaning that the experimental group which received the advertisement promotion did not actually buy more units than the control group. The alternative Hypothesis states that there is a positive IRR:\n",
    "\n",
    "* $H_0: IRR \\leq 0$\n",
    "* $H_1: IRR > 0$\n",
    "\n",
    "As we use two evaluation metrics we need to adjust the accepted level of false-postitives with a Bonferroni Correction, where $\\frac{\\alpha}{n_{eval metrics}}$\n",
    "* $\\alpha = 2.5\\% = 0.025$\n",
    "\n",
    "Question to answer:\n",
    "\n",
    "Is it less probable than alpha = 2.5% to have the observed difference of IRR = 0.009454, assuming there is no difference in Incremental Response between those who receive a a promotion and those who not."
   ]
  },
  {
   "cell_type": "markdown",
   "metadata": {},
   "source": [
    "#### 4.2.1 Analytical approach:"
   ]
  },
  {
   "cell_type": "code",
   "execution_count": 12,
   "metadata": {},
   "outputs": [
    {
     "name": "stdout",
     "output_type": "stream",
     "text": [
      "Pooled Standard Error: 0.00075827775128664\n",
      "Observed difference in IRR: 0.009454547819772702\n",
      "z-score: 12.468449461599388\n",
      "Probabilty seeing observed difference in IRR, when H0 is true: 0.0\n"
     ]
    }
   ],
   "source": [
    "# proportion pooled\n",
    "proportion_pooled = proportion_total\n",
    "\n",
    "# Standard Error pooled\n",
    "standard_error_pooled = np.sqrt(proportion_pooled * (1-proportion_pooled) * (1/n_control + 1/n_experiment))\n",
    "print('Pooled Standard Error:', standard_error_pooled)\n",
    "\n",
    "# observed difference\n",
    "difference = IRR_observed # = proportion_experiment - proportion_control\n",
    "print('Observed difference in IRR:', difference)\n",
    "\n",
    "# z-score\n",
    "z_score = difference / standard_error_pooled\n",
    "print('z-score:', z_score)\n",
    "\n",
    "print('Probabilty seeing observed difference in IRR, when H0 is true:', 1-stats.norm.cdf(z_score)) "
   ]
  },
  {
   "cell_type": "markdown",
   "metadata": {},
   "source": [
    "#### 4.2.2 Empirical / Simulation-based approach:"
   ]
  },
  {
   "cell_type": "code",
   "execution_count": 14,
   "metadata": {},
   "outputs": [
    {
     "name": "stdout",
     "output_type": "stream",
     "text": [
      "Probabilty seeing observed difference in IRR, when H0 is true: 0.0\n"
     ]
    },
    {
     "data": {
      "image/png": "[encoded data removed]",
      "text/plain": [
       "<Figure size 432x288 with 1 Axes>"
      ]
     },
     "metadata": {
      "needs_background": "light"
     },
     "output_type": "display_data"
    }
   ],
   "source": [
    "# Simulate outcomes under null, compare to observed outcome\n",
    "n_trials = 200000\n",
    "\n",
    "# Create 200000 test runs for control and experimental group with H0 saying that both groups have \n",
    "# the same IRR = proportion_total\n",
    "experiment_sampled = np.random.binomial(n_experiment, proportion_total, n_trials)\n",
    "control_sampled = np.random.binomial(n_control, proportion_total, n_trials)\n",
    "\n",
    "# Calculate IRR for each test run and get difference \n",
    "# of distributions\n",
    "samples = experiment_sampled / n_experiment - control_sampled / n_control\n",
    "\n",
    "# Distribution were created believing in H0: There is no difference \n",
    "#in center (both p_total)\n",
    "\n",
    "# Now calculate proportion of samples with same or more extreme \n",
    "# difference in click-through-rate than observed difference\n",
    "print('Probabilty seeing observed difference in IRR, when H0 is true:',\n",
    "      (samples >= (proportion_experiment - proportion_control)).mean())\n",
    "\n",
    "plt.axvline(proportion_experiment - proportion_control, color='r', label =\"Observed Statistic\") \n",
    "plt.hist(samples, bins=60);\n",
    "plt.title(\"Normal Distribution under the Null Hypothesis versus observed value\");"
   ]
  },
  {
   "cell_type": "markdown",
   "metadata": {},
   "source": [
    "The graphic above shows clearly that assuming that under the null hypothesis it is not possible to observe the value for IRR we actually observed in the experiment. This means that without a doubt the advertisement promotion had a positive effect on unit bought. This does not answer if the money earned by the additional units sold pays the costs for the advertisement. This will be answered in the next chapter."
   ]
  },
  {
   "cell_type": "markdown",
   "metadata": {},
   "source": [
    "### 4.3 Hypothesis regarding the Net Incremental Revenue (NIR):\n",
    "\n",
    "The second evaluation metric is the Net Incremental Revenue (NIR). In this case, the goal is to proove that the money spent for the promotion will be compensated by the addtional revenue in the experimental group. \n",
    "\n",
    "This time the Hypothesis test will only performed with a simulation approach. The test will be a one-tailed test.\n",
    "\n",
    "The Null Hypothesis states that the Net Incremental Revenue (NIR) is zero or negative. The alternative Hypothesis states that NIR is greater than zero.\n",
    "\n",
    "\n",
    "* $H_0: NIR \\leq 0$\n",
    "* $H_1: NIR > 0$\n",
    "\n",
    "With a Bonferroni Correction, where $\\frac{\\alpha}{n_{evaluation metrics}}$\n",
    "* $\\alpha = 2.5\\% = 0.025$"
   ]
  },
  {
   "cell_type": "markdown",
   "metadata": {},
   "source": [
    "#### 4.3.1 Empirical / Simulation-based approach:"
   ]
  },
  {
   "cell_type": "code",
   "execution_count": 28,
   "metadata": {},
   "outputs": [],
   "source": [
    "n_trials = 10000\n",
    "NIR = []\n",
    "\n",
    "for trial in range(n_trials):\n",
    "    sample = train_data.sample(round(n_total*0.2), replace=True)\n",
    "    sample_purchases_experiment = sample.query('Promotion == \"Yes\" and purchase == 1').shape[0]\n",
    "    sample_purchases_control = sample.query('Promotion == \"No\" and purchase == 1').shape[0]\n",
    "    sample_n_experiment = sample.query('Promotion == \"Yes\"').shape[0]\n",
    "    NIR.append((10 * sample_purchases_experiment - 0.15 * sample_n_experiment) - 10 * sample_purchases_control)"
   ]
  },
  {
   "cell_type": "code",
   "execution_count": 40,
   "metadata": {},
   "outputs": [
    {
     "data": {
      "image/png": "[encoded data removed]",
      "text/plain": [
       "<Figure size 432x288 with 1 Axes>"
      ]
     },
     "metadata": {
      "needs_background": "light"
     },
     "output_type": "display_data"
    }
   ],
   "source": [
    "null_distr = np.random.normal(0, np.std(NIR), n_trials)\n",
    "plt.hist(null_distr, bins=60)\n",
    "plt.axvline(NIR_observed * round(n_total*0.2)/train_data.shape[0], color='r', label =\"Observed Statistic\")\n",
    "plt.title(\"Normal Distribution under the Null Hypothesis\");"
   ]
  },
  {
   "cell_type": "code",
   "execution_count": null,
   "metadata": {},
   "outputs": [],
   "source": [
    "((NIR_observed * n_total*0.2/train_data.shape[0]) > np.array(NIR)).mean()"
   ]
  },
  {
   "cell_type": "markdown",
   "metadata": {},
   "source": [
    "If we use only a sample with 20% size of the orginal data, the metric FIR hast to be scaled with the same factor 0.2 = round(n_total*0.2)/train_data.shape[0] "
   ]
  },
  {
   "cell_type": "markdown",
   "metadata": {},
   "source": [
    "The graphic above shows that the null hypothesis can not be rejected. The observed value for NIR is negative and can not even be observed assuming a mean of zero. Therefore there is no possibility this value can be observed in a distribution with a positive mean value."
   ]
  },
  {
   "cell_type": "markdown",
   "metadata": {},
   "source": [
    "### 5. Create a Model to maximize IRR and NIR"
   ]
  },
  {
   "cell_type": "code",
   "execution_count": 66,
   "metadata": {},
   "outputs": [],
   "source": [
    "X = train_data.drop(['purchase'],axis=1)\n",
    "y = train_data.purchase"
   ]
  },
  {
   "cell_type": "code",
   "execution_count": null,
   "metadata": {},
   "outputs": [],
   "source": []
  },
  {
   "cell_type": "code",
   "execution_count": null,
   "metadata": {},
   "outputs": [],
   "source": []
  },
  {
   "cell_type": "code",
   "execution_count": null,
   "metadata": {},
   "outputs": [],
   "source": []
  },
  {
   "cell_type": "code",
   "execution_count": null,
   "metadata": {},
   "outputs": [],
   "source": []
  },
  {
   "cell_type": "code",
   "execution_count": null,
   "metadata": {},
   "outputs": [],
   "source": [
    "def promotion_strategy(df):\n",
    "    '''\n",
    "    INPUT \n",
    "    df - a dataframe with *only* the columns V1 - V7 (same as train_data)\n",
    "\n",
    "    OUTPUT\n",
    "    promotion_df - np.array with the values\n",
    "                   'Yes' or 'No' related to whether or not an \n",
    "                   individual should recieve a promotion \n",
    "                   should be the length of df.shape[0]\n",
    "                \n",
    "    Ex:\n",
    "    INPUT: df\n",
    "    \n",
    "    V1\tV2\t  V3\tV4\tV5\tV6\tV7\n",
    "    2\t30\t-1.1\t1\t1\t3\t2\n",
    "    3\t32\t-0.6\t2\t3\t2\t2\n",
    "    2\t30\t0.13\t1\t1\t4\t2\n",
    "    \n",
    "    OUTPUT: promotion\n",
    "    \n",
    "    array(['Yes', 'Yes', 'No'])\n",
    "    indicating the first two users would recieve the promotion and \n",
    "    the last should not.\n",
    "    '''\n",
    "    \n",
    "    \n",
    "    \n",
    "    \n",
    "    return promotion"
   ]
  },
  {
   "cell_type": "code",
   "execution_count": null,
   "metadata": {},
   "outputs": [],
   "source": [
    "# This will test your results, and provide you back some information \n",
    "# on how well your promotion_strategy will work in practice\n",
    "\n",
    "test_results(promotion_strategy)"
   ]
  }
 ],
 "metadata": {
  "kernelspec": {
   "display_name": "Python 3",
   "language": "python",
   "name": "python3"
  },
  "language_info": {
   "codemirror_mode": {
    "name": "ipython",
    "version": 3
   },
   "file_extension": ".py",
   "mimetype": "text/x-python",
   "name": "python",
   "nbconvert_exporter": "python",
   "pygments_lexer": "ipython3",
   "version": "3.8.0"
  }
 },
 "nbformat": 4,
 "nbformat_minor": 2
}
